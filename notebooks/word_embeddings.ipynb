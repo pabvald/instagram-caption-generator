{
 "cells": [
  {
   "cell_type": "markdown",
   "id": "27c6a9fd-bcda-4ccc-ad41-0f7ebcdc5335",
   "metadata": {},
   "source": [
    "# Word embeddings \n",
    "\n",
    "**Denis Kokorev, Deepanshu Metha, and Pablo Valdunciel**\n",
    "\n",
    "deko00002@stud.uni-saarland.de, 7007817  <br>\n",
    "deme00001@stud.uni-saarland.de, 7011083 <br>\n",
    "pava00001@stud.uni-saarland.de, 7010186 <br>\n",
    "\n",
    "<hr>"
   ]
  },
  {
   "cell_type": "code",
   "execution_count": 1,
   "id": "059bdd71-8628-4927-ad33-f6efcf1bcbab",
   "metadata": {},
   "outputs": [
    {
     "output_type": "stream",
     "name": "stderr",
     "text": [
      "/home/pabvald/.virtualenvs/instagram-caption-generator-Z18861q1/lib/python3.8/site-packages/gensim/similarities/__init__.py:15: UserWarning: The gensim.similarities.levenshtein submodule is disabled, because the optional Levenshtein package <https://pypi.org/project/python-Levenshtein/> is unavailable. Install Levenhstein (e.g. `pip install python-Levenshtein`) to suppress this warning.\n  warnings.warn(msg)\n"
     ]
    }
   ],
   "source": [
    "import sys \n",
    "from gensim.models import KeyedVectors\n",
    "sys.path.insert(1, os.path.join(sys.path[0], '..'))\n",
    "from config import PATH_EMOJI2VEC, PATH_WORD2VEC\n"
   ]
  },
  {
   "cell_type": "markdown",
   "id": "d9d49bdf-701a-4748-8dcf-eaf8701a0872",
   "metadata": {},
   "source": [
    "###  Download the word embeddings"
   ]
  },
  {
   "cell_type": "code",
   "execution_count": 2,
   "id": "5a08d8ae-478b-4de7-8973-195ec4db1ef0",
   "metadata": {},
   "outputs": [
    {
     "output_type": "stream",
     "name": "stdout",
     "text": [
      "File ‘GoogleNews-vectors-negative300.bin.gz’ already there; not retrieving.\n",
      "\n",
      "File ‘emoji2vec.bin’ already there; not retrieving.\n",
      "\n"
     ]
    }
   ],
   "source": [
    "# word2vec\n",
    "!cd \"../data\" \n",
    "!cd \"../data/embeddings\" && wget -nc \"https://s3.amazonaws.com/dl4j-distribution/GoogleNews-vectors-negative300.bin.gz\"\n",
    "!cd \"../data/embeddings\" && zcat GoogleNews-vectors-negative300.bin.gz > word2vec.bin \n",
    "\n",
    "# emoji2vec\n",
    "!cd \"../data/embeddings\" && wget -nc  \"https://github.com/uclnlp/emoji2vec/raw/master/pre-trained/emoji2vec.bin\" "
   ]
  },
  {
   "source": [
    "### Load the word embeddings"
   ],
   "cell_type": "markdown",
   "metadata": {}
  },
  {
   "cell_type": "code",
   "execution_count": 3,
   "id": "678f272a-011b-49b1-ba03-91d309aa98a9",
   "metadata": {},
   "outputs": [],
   "source": [
    "wv = KeyedVectors.load_word2vec_format(PATH_WORD2VEC, binary=True)"
   ]
  },
  {
   "cell_type": "code",
   "execution_count": 3,
   "id": "f9c2bfe3-06fa-4582-b9b8-c5d167d2f2ab",
   "metadata": {},
   "outputs": [],
   "source": [
    "ev = KeyedVectors.load_word2vec_format(PATH_EMOJI2VEC, binary=True)"
   ]
  },
  {
   "cell_type": "markdown",
   "id": "ea5e4bfb-9eba-49d7-8d73-cd1c87f9f78a",
   "metadata": {},
   "source": [
    "### Try them!\n",
    "\n",
    "##### word2vec"
   ]
  },
  {
   "cell_type": "code",
   "execution_count": 5,
   "id": "d4652e5a-776a-4662-a54c-9d7339cfa077",
   "metadata": {},
   "outputs": [
    {
     "output_type": "execute_result",
     "data": {
      "text/plain": [
       "[('girl', 0.9137797355651855),\n",
       " ('boy', 0.8520753383636475),\n",
       " ('woman', 0.7753916382789612),\n",
       " ('teenage_girl', 0.7416130900382996),\n",
       " ('mother', 0.7078654170036316),\n",
       " ('toddler', 0.7071250081062317),\n",
       " ('teenager', 0.6929726600646973),\n",
       " ('daughter', 0.6750497817993164),\n",
       " ('child', 0.6640000343322754),\n",
       " ('teenaged_girl', 0.6306877732276917)]"
      ]
     },
     "metadata": {},
     "execution_count": 5
    }
   ],
   "source": [
    "wv.similar_by_vector(wv['boy'] - wv['man'] + wv['woman'])"
   ]
  },
  {
   "cell_type": "code",
   "execution_count": 70,
   "id": "626b0a7c-99f9-4530-8cae-a6a1d5d2c3e1",
   "metadata": {},
   "outputs": [
    {
     "data": {
      "text/plain": [
       "[('vehicle', 0.7821096181869507),\n",
       " ('cars', 0.7423831224441528),\n",
       " ('SUV', 0.7160962224006653),\n",
       " ('minivan', 0.6907036900520325),\n",
       " ('truck', 0.6735789775848389),\n",
       " ('Car', 0.6677608489990234),\n",
       " ('Ford_Focus', 0.667320191860199),\n",
       " ('Honda_Civic', 0.6626849174499512),\n",
       " ('Jeep', 0.651133120059967),\n",
       " ('pickup_truck', 0.6441438794136047)]"
      ]
     },
     "execution_count": 70,
     "metadata": {},
     "output_type": "execute_result"
    }
   ],
   "source": [
    "wv.most_similar('car')"
   ]
  },
  {
   "cell_type": "markdown",
   "id": "3a695b33-b89d-4d06-a099-609e20692fde",
   "metadata": {},
   "source": [
    "##### emoji2vec\n",
    "\n",
    "Show all the emojis:"
   ]
  },
  {
   "cell_type": "code",
   "execution_count": 4,
   "id": "580807fb-4c46-4778-8f2a-a7808459ac58",
   "metadata": {},
   "outputs": [
    {
     "output_type": "stream",
     "name": "stdout",
     "text": [
      "🇸🇰 👔 🌀 🚾 👹 🚻 👬 🇫🇯 🎧 🐽 🚜 ♋ 🚭 🚷 📅 💈 ✔️ 🙎🏼 🍸 🤷 🌂 🚓 🍤 💘 🚔 👚 🐧 🍥 🍵 ✂️ 👓 ⛔ 💂 🆔 😕 🎎 🏊🏻 ❗ 💭 💬 \n",
      "🎴 ♉ ⚖ 🇮🇩 🛵 ⬅️ 📒 😡 🇲🇦 🇨🇭 🍦 ❗️ 🌐 🎡 🇿🇲 🤒 🔓 🎻 😹 🚮 👽 🌝 🇭🇺 🐆 🇰🇵 💔 🎅🏻 👇🏽 🍆 👃🏽 🐖 😮 ✴️ ➗ ⌚ 🆎 👻 🗻 🇨🇺 😟 \n",
      "💣 💁 🦀 🇬🇭 🎩 🇼 👉🏾 🙊 🍚 🍙 🚯 👩🏿 🇫🇷 👸🏼 😿 😲 🇲🇰 🔢 🚬 💅 🏀 🍷 🙈 👭 🍯 🏰 🖨 🍨 🆗 😩 🎉 🤐 🥡 ⚫️ 🏣 🌹 🌯 🎆 ▶️ 🔮 \n",
      "🙌 🆚 🙆 🎒 💆 🔰 🌜 🌕 🎑 😳 ⚓ 🐫 ♐ 👂  💃 🐼 🍣 🏧 🎠 🌴 😏 🛅 💶 ⚽ ♎ 🏫 😃 🇸🇮 🔒 ⛺ 🚥 💵 🍺 💀 🌅 🐜 ♣️ 🔔 🙆🏿 \n",
      "💉 💯 🍕 👣 🍌 🥔 🐸 👃🏻 🍮 💞 👵🏽 🇳🇬 🚦 🚣 💕 🐾 🏂 👎 🐀 🚝 😻 🛣 🎈 🐅 🇭🇳 🦃 🐌 🏋 🌎 ✈️ 🇨🇲 😂 🌡 🔏 😙 🇸🇧 👅 🕸 🇩🇪 👨‍👩‍👦‍👦 \n",
      "🌒 🍹 😛 🏍 💒 👯 ❄️ 😒 🔌 🌑 🚤 🏓 🍳 🍔 🙋🏿 😀 🙏 🌵 🚏 🍋 ☘ 🍀 ✌️ 🍠 🌗 🏬 🚉 🎅🏽 🍗 🖖🏽 ⛽ 🌱 💴 👐🏾 🐭 🈲 ⛄ 🌄 🎰 🖖🏼 \n",
      "🐤 🈵 🚌 🎪 🎅 👳 🍴 👰 🏇🏽 💿 🙂 🎓 🆖 🚵 🇪🇬 🔟 🐣 ♓️ 🇸🇻 🙅🏻 🤰 🏒 🇵🇬 💠 🎾 🎳 🛤 👺 🤦 🇩🇴 🚂 💷 🍏 🔜 ✡ 👲 🚘 📍 ®️ 🌠 \n",
      "🎃 🏩 💳 😊 🍟 ♌️ ☔ 🇬🇧 👟 🌛 🏷 💮 👋 🕉 👃 🎱 🍓 🗨 🚕 🇱🇺 🌇 👎🏾 🇶 🎫 💧 😎 👫 ♋️ 😋 🖖 🚺 😖 🇦🇼 🌁 🐕 ♊ 🐟 🙎🏻 ♈ 🐝 \n",
      "🇮🇳 ✋ 🏇 🙅 🌻 9️⃣ ℹ️ 5⃣️ 🈁 👏 🌉 👿 🎐 🇪🇸 🎍 👍🏿 🚣🏿 🖇 🍰 🇸🇩 🚎 🚡 🎯 🔼 👦🏿 😪 ⛵️ ▪️ 🇱 🙋 😴 😔 🇦🇲 ⛷ 😱 📨 🆙 🚟 😰 💐 \n",
      "🚰 ✳️ 🌚 🍬 🔉 💱 🏐 🍩 ❤️ 👰🏽 🏄🏼 🇦🇫 💜 ⚠️ 🛁 🎂 🎷 🐄 ⏸ 🙀 🇨🇩 ☕️ 🌈 🚪 🇷🇪 👩 ♐️ 🤢 🇲🇪 📤 🇷🇼 🇵 🎨 💤 ⚰ 🍡 ⚪️ 🚴 🎽 😵 \n",
      "🇳🇪 😥 🇬🇵 👁 🐺 🚞 🚙 🍞 🇦🇴 🎸 🔣 🍭 🌌 💏 🌸 🇧🇲 👖 👊🏽 👆 🛋 🌾 🏆 🌞 🌋 😁 🏄 👴🏼 👩🏾 🙅🏼 🏮 😄 1⃣️ 🎣 ♒️ 🍛 📎 🇸🇷 ⛄️ 🇱🇹 🚛 \n",
      "🚅 🖕 🐪 🚁 🇰🇪 🛃 🇵🇷 🇭🇰 🇵🇼 📛 😅 🅱️ 🎭 🍢 ♍️ 🈚 👴 🏠 ⚓️ 🗝 💽 🎹 😈 🇳🇨 🇻🇳 📰 7️⃣ 🍻 😉 💍 🚶 🙇🏽 🐞 🍲 🍉 🐲 🇳🇵 👤 😞 🎶 \n",
      "🇦🇮 👄 🗿 🌆 🚀 👱🏿 🍼 🏞 〽️ 🐍 4⃣️ 📦 ♌ ♿️ ♒ 🇵🇸 🇮🇶 🌃 🎬 😷 👒 📲 🔥 ♏️ 🐡 🎢 🐨 📆 ⭕ 🚖 🏉 😓 🏜 🌿 🏨 🎏 🇦🇹 🇬🇾 🌖 🇧🇼 \n",
      "🚽 👐 🐇 🇲🇶 🎲 🐢 😸 🗃 🕵 🍱 🐉 😺 😫 🌭 🍧 🍝 🙍 🙉 🇵🇭 🕷 🖼 ✏️ 😨 💻 🔈 🇩🇿 💸 🏊 🍶 🇲🇳 🚢 🏁 🚶🏿 ♑️ 🙇 🇭🇹 🐏 👊🏼 😤 🇮🇱 \n",
      "🐷 💰 👆🏿 ↪️ 👕 🔎 🏏 🤵 💃🏽 ⛺️ 👉🏼 💙 😗 🇬🇺 🚍 ☎️ 🇨🇰 🛐 🇻🇦 👌 🚩 🥄 🎋 ✊ ⚡ 📿 🌲 👀 🚒 😌 🤗 🇻🇪 🎄 📩 🍖 🇻🇺 🏳 🦇 🇨🇻 💫 \n",
      "🔡 🍍 🎤 👃🏼 🥙 🚈 🔋 😬 ♨️ 🌥 🐎 🕺 👨‍👨‍👧 🔪 ✊🏽 🎿 🚣🏾 🙍🏿 🌼 🔙 ✋🏿 🎮 ⚪ 🖤 🎼 🇦🇿 🇿🇦 ♑ ❎ 😭 📳 👇🏾 🎵 😘 🙏🏼 🇼🇸 😜 🐻 🌘 🇪🇺 \n",
      "🇹🇨 🇯 🐮 🏥 🐩 🇧🇳 🚱 🌟 💇 🎁 🍎 👳🏾 🚨 🌰 🚐 🇦🇩 ♓ 📹 🕎 🌍 🇧🇧 🚳 📱 🙇🏻 🐛 🇯🇵 ✅ 🔫 🇲🇴 🇸🇨 🕍 🚫 🐒 👨‍👩‍👧‍👦 😼 🇹🇳 ⚙ 🇦🇬 3⃣️ 👶🏽 \n",
      "🌔 ✉️ 🇸🇽 👨🏼 🚣🏽 🕯 😍 🇰🇾 👾 🚃 🎛 🤳 🌦 🇬🇦 🏪 📝 🇧🇴 🇵🇪 🚹 ⛸ 💩 🦅 🤠 🇰🇮 🗂 👈🏾 ♍ 👦🏽 👞 🌷 🕴 🇹🇼 👨‍❤️‍💋‍👨 🇳🇫 🎊 🔩 🇦🇸 🇮🇴 🏎 🙌🏽 \n",
      "🚶🏾 🛄 🚧 🇹🇬 💟 🇸🇪 🇲🇼 👈🏻 💥 🖌 👍🏾 💅🏻 💗 💡 🏟 🌫 🌬 ♦️ ⏰ ☯ 💪 🔑 💊 🇬🇮 ☝️ 👩‍❤️‍👩 ♎️ 🖐 🐗 🏃 🇨🇳 👛 🚿 🐔 🔍 🐰 🖲 👨🏿 🤞 🌊 \n",
      "🔄 🇦🇶 🎺 🛌 🇲🇿 👼🏼 🏄🏿 🇴🇲 🤝 ☕ 🙏🏾 🙌🏿 🔳 🐱 🇵🇾 💢 💆🏼 ⬆️ 🎦 🎀 🤺 📚 🇰🇲 🌺 🍊 💅🏼 🐙 🍂 😶 😐 🍐 🏅 📃 ❌ 🤣 🇧🇶 ➖ 🙎🏿 👱🏾 👢 \n",
      "🏵 🗽 🍄 👇 🇸🇦 🔬 🍿 🙎 🇸🇬 🐥 🤡 ⛰ 🖱 🌓 🐑 🎥 🏦 🌙 🀄 🍑 🔨 🌏 👎🏼 💪🏿 🇲🇹 🛍 🇫🇴 ⛪ 🇸🇴 🇭🇷 🇿🇼 💁🏾 🍘 ⏲ 🇹🇫 👈🏼 👸 💂🏼 ↖️ 📼 \n",
      "👰🏼 👪 🤘 🍁 👙 ⛲ 🚸 🙆🏻 📇 🗜 🇽🇰 ✊🏾 💚 🌳 📻 🐵 👉🏽 😝 💛 📧 🥐 🐐 😚 📖 🏈 😦 🚋 🐹 🚼 🇦🇺 🇳🇱 👊🏿 🚄 ⭐️ 🛥 💂🏻 🤥 👌🏿 🦁 💲 \n",
      "🇾🇹 🚶🏻 🤶 🇰🇷 ⭐ ✊🏿 🇧🇫 👮🏽 ☺️ ✋🏻 🏯 👷🏾 ⛪️ 💝 🏘 🌪 👈 🚵🏼 2⃣️ 🇾🇪 🤖 📵 🇨🇱 🚠 🇹🇭 💨 🇹🇷 🍪 😠 🆑 🇷🇴 👳🏼 💪🏽 🕔 🛀 🐿 6⃣️ 👎🏻 🇨🇨 👝 \n",
      "🍃 🌽 🇹🇿 🇨🇽 🈺 ⛅ 🍫 ☠ 🚆 🚚 👉 🇳🇮 🤕 👩‍👩‍👦‍👦 👍 🇬🇶 🇨🇾 🏚 🥘 🐈 🏔 8️⃣ 🇧🇻 🇮🇨 🇸 👧🏿 👲🏿 ☀️ 🙅🏽 🕖 ❓ 🇨🇵 ⛎ 🏕 👘 🙇🏾 🉐 🇮🇹 📫 🏑 \n",
      "🐚 🇺🇬 🔦 🕳 🇪🇭 🇿 🇫🇮 👏🏿 🇺🇾 🇮🇪 😽 👨‍👩‍👧‍👧 😾 🙋🏽 👆🏽 🗡 🀄️ 👸🏾 ⛈ 🦆 👗 📐 👧🏾 👮🏿 🕰 ♏ 🎖 🏄🏾 🇹🇦 🗣 👼🏻 🔸 🃏 🖊 🛂 🌶 👂🏼 🇨🇮 🥒 🤾 \n",
      "📯 😢 🔇 💾 🦏 🇺🇸 👁‍🗨 😯 ⚔ 🇲🇭 🍇 👵🏼 🥃 💅🏽 🚊 🇧🇦 🤑 🇹🇯 💹 👑 6️⃣ ⏱ 🇲🇽 ☢ 🇰🇿 🇬🇫 📡 🇲🇾 📏 🆒 🙅🏿 👴🏿 🅿️ 🗾 ❇️ 🇱🇧 💋 👡 👍🏻 🈯 \n",
      "👏🏾 🐴 🇨🇫 💇🏼 🙋🏻 💼 🇬🇹 🙄 👥 🇱🇦 👷🏿 🇯🇲 🥀 💓 🛳 ♉️ 🇧🇹 🇳🇴 ⁉️ 🔛 🖋 👌🏾 📮 ♊️ 👨 😑 📕 📂 👮 😧 🇦🇷 🗺 🏺 👵🏿 🖖🏿 👊 🆓 🐋 🖥 ♥️ \n",
      "🇷🇸 👷 🉑 ✋🏽 🐓 ☮ 👈🏿 🐃 🇸🇱 🥕 📪 🐶 🇹🇻 🚵🏽 🇸🇲 🤧 🛏 🇧🇩 🔚 ◼️ 🔊 🚗 🇧🇮 🕚 🇷🇺 🇵🇳 ⛅️ 🏊🏽 📭 ㊙️ 🔆 ⚛ 🔐 🇰🇳 ☂ 📌 ⛳ 📀 🇹🇩 🙍🏽 \n",
      "👼🏿 🇧🇭 ✝ ⚗ 👨‍❤️‍👨 👋🏼 🛀🏽 🙃 😇 ⚫ 📓 🍽 🇩🇲 📬 🔠 📟 🇮 🈂️ 📴 ⛓ 📺 📢 🎟 🕓 🔝 🈹 👼 🔁 🍜 ⚡️ 👍🏼 💑 🙎🏽 🇧🇯 👠 🔗 🇫🇰 👷🏽 📶 💎 \n",
      "🔕 📋 ✨ 🤹 🚴🏼 🕗 🏊🏿 🔯 🇰🇬 🦈 👱 ‼️ 🔷 🕑 🙍🏾 🎅🏿 🈴 🐠 👨‍👨‍👦 🈶 ✋🏾 ◀️ 👧🏻 🏃🏾 🤚 🇸🇸 ◽️ 🇬🇩 👰🏻 🏃🏼 🙁 🇲🇷 🇶🇦 👴🏻 🇬🇲 🇨🇦 🖖🏻 💌 🎅🏾 🇱🇰 \n",
      "👩‍👩‍👦 👇🏿 💄 🇦🇪 ⛔️ 🇩🇯 🏇🏾 💦 🇪🇷 ☔️ 🤤 🇲🇻 🐯 👸🏻 🚵🏻 ⛲️ 🚶🏽 ♈️ 🇵🇰 👎🏽 📑 🇱🇷 ⛽️ 👍🏽 🏊🏼 ⛳️ 📠 🔂 ♻️ 🛀🏿 🧀 🗯 🚴🏿 🍈 ⤴️ 1️⃣ 😆 🆘 💺 🇻🇬 \n",
      "🇫🇲 🇳🇿 ☹ 💪🏻 👴🏾 ☄ 👇🏻 💃🏿 📄 👶 🇺🇿 💅🏾 ⬜️ 🍾 🔖 🇨🇿 🇪🇨 🔱 🇦🇽 📷 ❣ Ⓜ️ 🇳🇷 🇲🇺 👵 🇬🇷 ❕ 🦊 ▫️ 🕶 🇧🇷 🇵🇹 🇲🇱 🕋 👏🏼 🐊 🛬 🔤 🏹 🌮 \n",
      "🔽 ➿ ㊗️ 🗳 🏇🏻 🇸🇿 🇸🇳 👩🏼 🤔 💃🏻 🛰 👂🏾 🇵🇦 👷🏼 🛀🏾 ⚾ 🇴 🚑 🥗 🇬🇱 🕒 🚴🏽 🛠 🍒 👌🏽 👦 🥓 👸🏽 🏙 👲🏻 🇺🇦 🚣🏻 ➰ 👐🏻 🇪🇹 ◻️ 🍅 🇨🇷 🦂 0️⃣ \n",
      "⏩ 👉🏿 🖍 🇹🇲 👰🏾 💖 🅾️ 🦉 📘 🇧🇸 🇹🇰 💆🏻 📊 ✋🏼 🇧🇪 ⛩ 🇪🇪 🇦🇱 ⌚️ 🇰🇭 🌤 🇯🇴 🚲 #️⃣ 🇳🇺 ↙️ 🏌 👩‍👩‍👧‍👧 ✒️ 🔹 🏡 ☁️ 🇦🇨 🇬 👇🏼 🗓 💃🏾 🕹 ◽ 🏇🏼 \n",
      "🇱🇾 👳🏿 👌🏻 🏇🏿 🇵🇫 🛑 👜 ⬛️ 🇳 🏤 🇱🇮 🔭 😣 🏃🏻 🤴 🇸🇾 🙋🏼 📣 ⌛ 🇬🇬 ⬇️ 👐🏼 📞 🇲🇩 ➕ 🇧🇿 👩‍❤️‍💋‍👩 🇳🇦 🇪 📜 🇱🇨 👃🏿 💁🏼 💁🏽 🎌 🙆🏼 🕙 🙍🏼 👵🏻 🈷️ \n",
      "👶🏻 👲🏼 ⏹ 🎗 ⛹ 🔴 🌨 📗 ☃ 💇🏻 🇵🇱 ⚱ 🇬🇼 🚴🏾 👩‍👩‍👧 🕐 🎅🏼 🇩🇬 🗒 🇨🇼 👱🏻 👨‍👨‍👧‍👧 📔 🙅🏾 ♿ ♠️ ☪ 🛀🏼 👆🏻 🇯🇪 🏢 📈 🤓 ☑️ 🥂 🚇 5️⃣ 🙌🏻 🏝 🐂 \n",
      "⚽️ 🏄🏽 🇮🇸 🗞 👂🏿 🦄 👦🏻 👨‍👨‍👧‍👦 ⬛ 🔀 🙆🏾 🈸 ◾️ 👧 👐🏽 🇲🇸 🚶🏼 ™️ 🆕 🔧 🗼 🕛 3️⃣ 🙌🏼 💇🏿 🇱🇸 🇲🇬 👋🏾 🇮🇷 ☣ 🔞 🏸 🈳 👵🏾 💁🏿 🇲🇵 🕌 🕕 ✍ 🔵 \n",
      "📁 👼🏾 ⤵️ ©️ 👲🏾 🇻 🇨🇴 👊🏻 🕊 💃🏼 👋🏿 🇧🇬 📥 〰️ 🐁 🖖🏾 🎚 ❔ 👨‍👩‍👧 ↗️ 🚴🏻 🇹🇹 🛢 👱🏽 👐🏿 🇹🇴 👋🏻 ⚒ 📉 💂🏽 🐘 ⏏ 👨🏾 🙌🏾 🇬🇪 ↔️ 👎🏿 🎞 🇰🇼 🦋 \n",
      "💪🏾 🇮🇲 👨‍👨‍👦‍👦 👨🏽 4️⃣ 👧🏽 👮🏼 👳🏻 👶🏾 💂🏾 👌🏼 👧🏼 🎙 🇻🇮 ✖️ 🏊🏾 🛴 ↕️ 🐦 👶🏿 🇻🇨 🙏🏻 👼🏽 🇧🇾 🌧 ⌛️ 💅🏿 🇬🇳 ⌨ 👏🏻 ⏺ 🏛 🇨🇬 🤛 🛩 👊🏾 ⭕️ 👉🏻 🙇🏿 💇🏾 \n",
      "*⃣ ◾ 📽 🥑 👃🏾 ⛑ 🕘 🙏🏽 ⛴ 🇲🇨 7⃣️ 💆🏿 ✊🏻 👮🏾 👂🏽 🔅 🚵🏾 🗄 🙋🏾 👳🏽 🏗 2️⃣ 👋🏽 🏄🏻 💁🏻 🇩🇰 👏🏽 🔘 👱🏼 🌩 🇱🇻 🎇 ‍ 👶🏼 ➡️ 🇲🇲 ⛱ ↘️ 🚣🏼 🏃🏽 \n",
      "🏴 🛎 🅰️ 🙎🏾 👩🏻 ✊🏼 👩🏽 ⛏ 9⃣️ 👨🏻 🔃 💆🏽 👆🏼 💂🏿 🛫 🚵🏿 🛡 👂🏻 🥖 🇺 👮🏻 ⏪ 📙 🏭 👰🏿 👦🏾 👆🏾 💇🏽 🛀🏻 👲🏽 🙇🏼 🤙 🔲 🇹🇱 ⏳ 👦🏼 🇸🇹 🇽 🙍🏻 🐳 \n",
      "🙆🏽 👈🏽 🏃🏿 💪🏼 🗑 👴🏽 🤜 📸 🐬 💆🏾 🏖 ⬜ 👷🏻 👸🏿 🔶 ⚾️ ☸ ↩️ ☦ 👩‍👩‍👧‍👦 🙏🏿 "
     ]
    }
   ],
   "source": [
    "EMOJIS_PER_LINE = 40\n",
    "for i, k in enumerate(ev.index_to_key):\n",
    "  print(k, end=' ')\n",
    "  if (i+1) % EMOJIS_PER_LINE == 0:\n",
    "    print()\n",
    "  "
   ]
  },
  {
   "cell_type": "code",
   "execution_count": 5,
   "id": "a7c9294d-81c7-4b7e-b2b0-e928fc43d88d",
   "metadata": {},
   "outputs": [
    {
     "output_type": "execute_result",
     "data": {
      "text/plain": [
       "[('👑', 0.8581188321113586),\n",
       " ('👸', 0.628779947757721),\n",
       " ('🏰', 0.4684167206287384),\n",
       " ('🤴', 0.4493362009525299),\n",
       " ('🐜', 0.43714311718940735),\n",
       " ('🎎', 0.4322206377983093),\n",
       " ('👸🏼', 0.41583117842674255),\n",
       " ('👸🏻', 0.4070160984992981),\n",
       " ('💂', 0.3953656554222107),\n",
       " ('👧', 0.37989136576652527)]"
      ]
     },
     "metadata": {},
     "execution_count": 5
    }
   ],
   "source": [
    "ev.similar_by_vector(ev['👑'] - ev['🚹'] + ev['🚺']) "
   ]
  },
  {
   "cell_type": "code",
   "execution_count": 92,
   "id": "6f747d7f-9186-4894-91d7-5ccbc4e02cd9",
   "metadata": {},
   "outputs": [
    {
     "data": {
      "text/plain": [
       "[('😜', 0.8535385131835938),\n",
       " ('😝', 0.8223440647125244),\n",
       " ('👅', 0.6550301909446716),\n",
       " ('🙎', 0.5648128986358643),\n",
       " ('😉', 0.5496317148208618),\n",
       " ('🐒', 0.5416544675827026),\n",
       " ('😏', 0.5343378782272339),\n",
       " ('😙', 0.5192166566848755),\n",
       " ('😼', 0.5154463052749634),\n",
       " ('🙃', 0.5110161304473877)]"
      ]
     },
     "execution_count": 92,
     "metadata": {},
     "output_type": "execute_result"
    }
   ],
   "source": [
    "ev.most_similar('😛')"
   ]
  },
  {
   "cell_type": "markdown",
   "id": "15cbce4e-3773-4ba7-b094-8afb696ddc7c",
   "metadata": {},
   "source": [
    "##### word2vec + emoji2vec ?"
   ]
  },
  {
   "cell_type": "code",
   "execution_count": 95,
   "id": "87d6e6d1-106f-4bd0-ab60-eb67cdc393f1",
   "metadata": {},
   "outputs": [
    {
     "data": {
      "text/plain": [
       "[('💛', 0.45188307762145996),\n",
       " ('🍋', 0.43907347321510315),\n",
       " ('🌽', 0.41172969341278076),\n",
       " ('❤️', 0.4000483751296997),\n",
       " ('🐼', 0.3675897717475891),\n",
       " ('🌹', 0.3617658317089081),\n",
       " ('👸🏻', 0.3440008759498596),\n",
       " ('💚', 0.32833370566368103),\n",
       " ('🎅🏻', 0.3265405297279358),\n",
       " ('👶🏻', 0.3243843913078308)]"
      ]
     },
     "execution_count": 95,
     "metadata": {},
     "output_type": "execute_result"
    }
   ],
   "source": [
    "ev.similar_by_vector(ev['❤️'] - wv['red'] + wv['yellow'])"
   ]
  },
  {
   "cell_type": "code",
   "execution_count": 96,
   "id": "5ba53163-0a07-4601-b009-4c9c5f0ff418",
   "metadata": {},
   "outputs": [
    {
     "data": {
      "text/plain": [
       "[('👴🏼', 0.5156091451644897),\n",
       " ('👨🏼', 0.4439067244529724),\n",
       " ('👴🏻', 0.36636167764663696),\n",
       " ('🎅🏼', 0.3663276433944702),\n",
       " ('👳🏼', 0.36290159821510315),\n",
       " ('👴🏾', 0.3594023585319519),\n",
       " ('👴🏿', 0.3574677109718323),\n",
       " ('👨🏾', 0.3401283919811249),\n",
       " ('👂🏼', 0.3366304636001587),\n",
       " ('👳🏾', 0.3297697603702545)]"
      ]
     },
     "execution_count": 96,
     "metadata": {},
     "output_type": "execute_result"
    }
   ],
   "source": [
    "ev.similar_by_vector(ev['👴🏼'] - wv['woman'] + wv['man'])"
   ]
  },
  {
   "cell_type": "code",
   "execution_count": null,
   "id": "6e0ee7fd-4535-4578-961c-4bed2017bcee",
   "metadata": {},
   "outputs": [],
   "source": []
  }
 ],
 "metadata": {
  "kernelspec": {
   "name": "python3",
   "display_name": "Python 3.8.10 64-bit ('instagram-caption-generator-Z18861q1': pipenv)"
  },
  "language_info": {
   "codemirror_mode": {
    "name": "ipython",
    "version": 3
   },
   "file_extension": ".py",
   "mimetype": "text/x-python",
   "name": "python",
   "nbconvert_exporter": "python",
   "pygments_lexer": "ipython3",
   "version": "3.8.10"
  },
  "interpreter": {
   "hash": "f58a678dbd1670e0124423fbd42524fb68cfc59d5c077e2c6f76e74bd8aab77e"
  }
 },
 "nbformat": 4,
 "nbformat_minor": 5
}