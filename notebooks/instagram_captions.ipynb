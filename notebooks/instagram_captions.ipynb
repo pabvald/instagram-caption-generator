{
 "metadata": {
  "language_info": {
   "codemirror_mode": {
    "name": "ipython",
    "version": 3
   },
   "file_extension": ".py",
   "mimetype": "text/x-python",
   "name": "python",
   "nbconvert_exporter": "python",
   "pygments_lexer": "ipython3",
   "version": "3.8.10"
  },
  "orig_nbformat": 4,
  "kernelspec": {
   "name": "python3",
   "display_name": "Python 3.8.10 64-bit ('instagram-caption-generator-Z18861q1': pipenv)"
  },
  "interpreter": {
   "hash": "ad6760ea93df2b1e9e7757e1706ec8f01b4a008f205c845c525ab8b6f47fca62"
  }
 },
 "nbformat": 4,
 "nbformat_minor": 2,
 "cells": [
  {
   "cell_type": "code",
   "execution_count": 9,
   "metadata": {},
   "outputs": [],
   "source": [
    "import csv\n",
    "import sys \n",
    "import numpy as np\n",
    "import pandas as pd\n",
    "\n",
    "sys.path.insert(1, os.path.join(sys.path[0], '..'))\n",
    "from config import PATH_INSTA\n",
    "from os.path import join as pjoin\n"
   ]
  },
  {
   "cell_type": "code",
   "execution_count": 17,
   "metadata": {},
   "outputs": [],
   "source": [
    "original = pd.read_csv(pjoin(PATH_INSTA, 'captions_csv.csv'))['Caption']\n",
    "preprocessed = pd.read_csv(pjoin(PATH_INSTA, 'preprocessed.csv'))['Caption']"
   ]
  },
  {
   "cell_type": "code",
   "execution_count": 54,
   "metadata": {},
   "outputs": [],
   "source": [
    "def length_analysis(captions):\n",
    "    lengths = np.array([len(str(c).split()) for c in captions])\n",
    "\n",
    "    print(\"Length:\")\n",
    "    print(\" - Number of images/captions = {}\".format(len(lengths)))\n",
    "    print(\" - Average = {:.2f}\".format(np.mean(lengths)))\n",
    "    print(\" - Std. devitation  = {:.2f}\".format(np.std(lengths)))\n",
    "    print(\" - Maximum = {}\".format(np.max(lengths)))\n",
    "    print(\" - Minimum = {}\".format(np.min(lengths)))\n",
    "\n",
    "def emoji_analysis(captions):\n",
    "    with_emojis =  [has_emoji(caption) for caption in captions]\n",
    "    \n",
    "    print(\"Emojis:\")\n",
    "    print(\" - Number of captions with emojis = {}\".format(sum(with_emojis)))\n",
    "    print(\" - % with emojis = {:.4f} %\".format(sum(with_emojis) / len(captions) * 100))\n",
    "\n",
    "def has_emoji(caption):    \n",
    "    is_emoji = lambda _char: (ord(_char) > 120000) and (ord(_char) < 130000)\n",
    "    for c in str(caption):\n",
    "        if is_emoji(c):\n",
    "            return True \n",
    "    return False\n",
    "    \n"
   ]
  },
  {
   "source": [
    "### Original"
   ],
   "cell_type": "markdown",
   "metadata": {}
  },
  {
   "cell_type": "code",
   "execution_count": 55,
   "metadata": {},
   "outputs": [
    {
     "output_type": "stream",
     "name": "stdout",
     "text": [
      "Original captions:\n",
      "\n",
      "Length:\n",
      " - Number of images/captions = 34927\n",
      " - Average = 7.49\n",
      " - Std. devitation  = 13.86\n",
      " - Maximum = 402\n",
      " - Minimum = 1\n",
      "\n",
      "Emojis:\n",
      " - Number of captions with emojis = 9056\n",
      " - % with emojis = 25.9284 %\n"
     ]
    }
   ],
   "source": [
    "print(\"Original captions:\\n\")\n",
    "length_analysis(original)\n",
    "print()\n",
    "emoji_analysis(original)\n",
    "\n"
   ]
  },
  {
   "source": [
    "### Preprocessed"
   ],
   "cell_type": "markdown",
   "metadata": {}
  },
  {
   "cell_type": "code",
   "execution_count": 56,
   "metadata": {},
   "outputs": [
    {
     "output_type": "stream",
     "name": "stdout",
     "text": [
      "Preprocessed captions:\n\nLength:\n - Number of images/captions = 24669\n - Average = 6.94\n - Std. devitation  = 4.81\n - Maximum = 32\n - Minimum = 2\n\nEmojis:\n - Number of captions with emojis = 7604\n - % with emojis = 30.8241 %\n"
     ]
    }
   ],
   "source": [
    "print(\"Preprocessed captions:\\n\")\n",
    "length_analysis(preprocessed)\n",
    "print()\n",
    "emoji_analysis(preprocessed)\n"
   ]
  },
  {
   "cell_type": "code",
   "execution_count": null,
   "metadata": {},
   "outputs": [],
   "source": []
  }
 ]
}