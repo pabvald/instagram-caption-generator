{
 "cells": [
  {
   "cell_type": "markdown",
   "id": "27c6a9fd-bcda-4ccc-ad41-0f7ebcdc5335",
   "metadata": {},
   "source": [
    "# Word embeddings "
   ]
  },
  {
   "cell_type": "code",
   "execution_count": 1,
   "id": "059bdd71-8628-4927-ad33-f6efcf1bcbab",
   "metadata": {},
   "outputs": [],
   "source": [
    "from gensim.models import KeyedVectors"
   ]
  },
  {
   "cell_type": "markdown",
   "id": "d9d49bdf-701a-4748-8dcf-eaf8701a0872",
   "metadata": {},
   "source": [
    "### Load the word embeddings"
   ]
  },
  {
   "cell_type": "code",
   "execution_count": 2,
   "id": "5a08d8ae-478b-4de7-8973-195ec4db1ef0",
   "metadata": {},
   "outputs": [
    {
     "output_type": "stream",
     "name": "stdout",
     "text": [
      "--2021-06-16 10:02:24--  https://s3.amazonaws.com/dl4j-distribution/GoogleNews-vectors-negative300.bin.gz\n",
      "Resolving s3.amazonaws.com (s3.amazonaws.com)... 52.217.74.150\n",
      "Connecting to s3.amazonaws.com (s3.amazonaws.com)|52.217.74.150|:443... connected.\n",
      "HTTP request sent, awaiting response... 200 OK\n",
      "Length: 1647046227 (1.5G) [application/x-gzip]\n",
      "Saving to: ‘GoogleNews-vectors-negative300.bin.gz’\n",
      "\n",
      "GoogleNews-vectors- 100%[===================>]   1.53G  7.72MB/s    in 3m 5s   \n",
      "\n",
      "2021-06-16 10:05:30 (8.47 MB/s) - ‘GoogleNews-vectors-negative300.bin.gz’ saved [1647046227/1647046227]\n",
      "\n",
      "gzip: GoogleNews-vectors-negative300.bin.gz: No such file or directory\n",
      "--2021-06-16 10:05:30--  https://github.com/uclnlp/emoji2vec/raw/master/pre-trained/emoji2vec.bin\n",
      "Resolving github.com (github.com)... 140.82.121.4\n",
      "Connecting to github.com (github.com)|140.82.121.4|:443... connected.\n",
      "HTTP request sent, awaiting response... 302 Found\n",
      "Location: https://raw.githubusercontent.com/uclnlp/emoji2vec/master/pre-trained/emoji2vec.bin [following]\n",
      "--2021-06-16 10:05:31--  https://raw.githubusercontent.com/uclnlp/emoji2vec/master/pre-trained/emoji2vec.bin\n",
      "Resolving raw.githubusercontent.com (raw.githubusercontent.com)... 185.199.109.133, 185.199.110.133, 185.199.111.133, ...\n",
      "Connecting to raw.githubusercontent.com (raw.githubusercontent.com)|185.199.109.133|:443... connected.\n",
      "HTTP request sent, awaiting response... 200 OK\n",
      "Length: 2004122 (1.9M) [application/octet-stream]\n",
      "Saving to: ‘emoji2vec.bin’\n",
      "\n",
      "emoji2vec.bin       100%[===================>]   1.91M  10.1MB/s    in 0.2s    \n",
      "\n",
      "2021-06-16 10:05:31 (10.1 MB/s) - ‘emoji2vec.bin’ saved [2004122/2004122]\n",
      "\n"
     ]
    }
   ],
   "source": [
    "# word2vec\n",
    "!cd \"data\"\n",
    "!cd \"data/embeddings\" && wget -nc \"https://s3.amazonaws.com/dl4j-distribution/GoogleNews-vectors-negative300.bin.gz\"\n",
    "!cd \"data/embeddings\" && zcat GoogleNews-vectors-negative300.bin.gz > word2vec.bin \n",
    "\n",
    "# emoji2vec\n",
    "!cd \"data/embeddings\" && wget -nc  \"https://github.com/uclnlp/emoji2vec/raw/master/pre-trained/emoji2vec.bin\" "
   ]
  },
  {
   "cell_type": "code",
   "execution_count": 3,
   "id": "9834dc50-e1b6-438f-be91-1050b83158d1",
   "metadata": {},
   "outputs": [],
   "source": [
    "PATH_WORD2VEC = 'data/embeddings/word2vec.bin'\n",
    "PATH_EMOJI2VEC = 'data/embeddings/emoji2vec.bin'"
   ]
  },
  {
   "cell_type": "code",
   "execution_count": 4,
   "id": "678f272a-011b-49b1-ba03-91d309aa98a9",
   "metadata": {},
   "outputs": [
    {
     "output_type": "error",
     "ename": "ValueError",
     "evalue": "not enough values to unpack (expected 2, got 0)",
     "traceback": [
      "\u001b[0;31m---------------------------------------------------------------------------\u001b[0m",
      "\u001b[0;31mValueError\u001b[0m                                Traceback (most recent call last)",
      "\u001b[0;32m<ipython-input-4-268115a42bcb>\u001b[0m in \u001b[0;36m<module>\u001b[0;34m\u001b[0m\n\u001b[0;32m----> 1\u001b[0;31m \u001b[0mwv\u001b[0m \u001b[0;34m=\u001b[0m \u001b[0mKeyedVectors\u001b[0m\u001b[0;34m.\u001b[0m\u001b[0mload_word2vec_format\u001b[0m\u001b[0;34m(\u001b[0m\u001b[0mPATH_WORD2VEC\u001b[0m\u001b[0;34m,\u001b[0m \u001b[0mbinary\u001b[0m\u001b[0;34m=\u001b[0m\u001b[0;32mTrue\u001b[0m\u001b[0;34m)\u001b[0m\u001b[0;34m\u001b[0m\u001b[0;34m\u001b[0m\u001b[0m\n\u001b[0m",
      "\u001b[0;32m~/.local/share/virtualenvs/instagram-caption-generator-Z18861q1/lib/python3.8/site-packages/gensim/models/keyedvectors.py\u001b[0m in \u001b[0;36mload_word2vec_format\u001b[0;34m(cls, fname, fvocab, binary, encoding, unicode_errors, limit, datatype, no_header)\u001b[0m\n\u001b[1;32m   1628\u001b[0m \u001b[0;34m\u001b[0m\u001b[0m\n\u001b[1;32m   1629\u001b[0m         \"\"\"\n\u001b[0;32m-> 1630\u001b[0;31m         return _load_word2vec_format(\n\u001b[0m\u001b[1;32m   1631\u001b[0m             \u001b[0mcls\u001b[0m\u001b[0;34m,\u001b[0m \u001b[0mfname\u001b[0m\u001b[0;34m,\u001b[0m \u001b[0mfvocab\u001b[0m\u001b[0;34m=\u001b[0m\u001b[0mfvocab\u001b[0m\u001b[0;34m,\u001b[0m \u001b[0mbinary\u001b[0m\u001b[0;34m=\u001b[0m\u001b[0mbinary\u001b[0m\u001b[0;34m,\u001b[0m \u001b[0mencoding\u001b[0m\u001b[0;34m=\u001b[0m\u001b[0mencoding\u001b[0m\u001b[0;34m,\u001b[0m \u001b[0municode_errors\u001b[0m\u001b[0;34m=\u001b[0m\u001b[0municode_errors\u001b[0m\u001b[0;34m,\u001b[0m\u001b[0;34m\u001b[0m\u001b[0;34m\u001b[0m\u001b[0m\n\u001b[1;32m   1632\u001b[0m             \u001b[0mlimit\u001b[0m\u001b[0;34m=\u001b[0m\u001b[0mlimit\u001b[0m\u001b[0;34m,\u001b[0m \u001b[0mdatatype\u001b[0m\u001b[0;34m=\u001b[0m\u001b[0mdatatype\u001b[0m\u001b[0;34m,\u001b[0m \u001b[0mno_header\u001b[0m\u001b[0;34m=\u001b[0m\u001b[0mno_header\u001b[0m\u001b[0;34m,\u001b[0m\u001b[0;34m\u001b[0m\u001b[0;34m\u001b[0m\u001b[0m\n",
      "\u001b[0;32m~/.local/share/virtualenvs/instagram-caption-generator-Z18861q1/lib/python3.8/site-packages/gensim/models/keyedvectors.py\u001b[0m in \u001b[0;36m_load_word2vec_format\u001b[0;34m(cls, fname, fvocab, binary, encoding, unicode_errors, limit, datatype, no_header, binary_chunk_size)\u001b[0m\n\u001b[1;32m   1901\u001b[0m         \u001b[0;32melse\u001b[0m\u001b[0;34m:\u001b[0m\u001b[0;34m\u001b[0m\u001b[0;34m\u001b[0m\u001b[0m\n\u001b[1;32m   1902\u001b[0m             \u001b[0mheader\u001b[0m \u001b[0;34m=\u001b[0m \u001b[0mutils\u001b[0m\u001b[0;34m.\u001b[0m\u001b[0mto_unicode\u001b[0m\u001b[0;34m(\u001b[0m\u001b[0mfin\u001b[0m\u001b[0;34m.\u001b[0m\u001b[0mreadline\u001b[0m\u001b[0;34m(\u001b[0m\u001b[0;34m)\u001b[0m\u001b[0;34m,\u001b[0m \u001b[0mencoding\u001b[0m\u001b[0;34m=\u001b[0m\u001b[0mencoding\u001b[0m\u001b[0;34m)\u001b[0m\u001b[0;34m\u001b[0m\u001b[0;34m\u001b[0m\u001b[0m\n\u001b[0;32m-> 1903\u001b[0;31m             \u001b[0mvocab_size\u001b[0m\u001b[0;34m,\u001b[0m \u001b[0mvector_size\u001b[0m \u001b[0;34m=\u001b[0m \u001b[0;34m[\u001b[0m\u001b[0mint\u001b[0m\u001b[0;34m(\u001b[0m\u001b[0mx\u001b[0m\u001b[0;34m)\u001b[0m \u001b[0;32mfor\u001b[0m \u001b[0mx\u001b[0m \u001b[0;32min\u001b[0m \u001b[0mheader\u001b[0m\u001b[0;34m.\u001b[0m\u001b[0msplit\u001b[0m\u001b[0;34m(\u001b[0m\u001b[0;34m)\u001b[0m\u001b[0;34m]\u001b[0m  \u001b[0;31m# throws for invalid file format\u001b[0m\u001b[0;34m\u001b[0m\u001b[0;34m\u001b[0m\u001b[0m\n\u001b[0m\u001b[1;32m   1904\u001b[0m         \u001b[0;32mif\u001b[0m \u001b[0mlimit\u001b[0m\u001b[0;34m:\u001b[0m\u001b[0;34m\u001b[0m\u001b[0;34m\u001b[0m\u001b[0m\n\u001b[1;32m   1905\u001b[0m             \u001b[0mvocab_size\u001b[0m \u001b[0;34m=\u001b[0m \u001b[0mmin\u001b[0m\u001b[0;34m(\u001b[0m\u001b[0mvocab_size\u001b[0m\u001b[0;34m,\u001b[0m \u001b[0mlimit\u001b[0m\u001b[0;34m)\u001b[0m\u001b[0;34m\u001b[0m\u001b[0;34m\u001b[0m\u001b[0m\n",
      "\u001b[0;31mValueError\u001b[0m: not enough values to unpack (expected 2, got 0)"
     ]
    }
   ],
   "source": [
    "wv = KeyedVectors.load_word2vec_format(PATH_WORD2VEC, binary=True)"
   ]
  },
  {
   "cell_type": "code",
   "execution_count": 69,
   "id": "f9c2bfe3-06fa-4582-b9b8-c5d167d2f2ab",
   "metadata": {},
   "outputs": [],
   "source": [
    "ev = KeyedVectors.load_word2vec_format(PATH_EMOJI2VEC, binary=True)"
   ]
  },
  {
   "cell_type": "markdown",
   "id": "ea5e4bfb-9eba-49d7-8d73-cd1c87f9f78a",
   "metadata": {},
   "source": [
    "### Try the vectors\n",
    "\n",
    "##### word2vec"
   ]
  },
  {
   "cell_type": "code",
   "execution_count": 71,
   "id": "d4652e5a-776a-4662-a54c-9d7339cfa077",
   "metadata": {},
   "outputs": [
    {
     "data": {
      "text/plain": [
       "[('girl', 0.9137797355651855),\n",
       " ('boy', 0.8520753383636475),\n",
       " ('woman', 0.7753916382789612),\n",
       " ('teenage_girl', 0.7416130900382996),\n",
       " ('mother', 0.7078654170036316),\n",
       " ('toddler', 0.7071250081062317),\n",
       " ('teenager', 0.6929726600646973),\n",
       " ('daughter', 0.6750497817993164),\n",
       " ('child', 0.6640000343322754),\n",
       " ('teenaged_girl', 0.6306877732276917)]"
      ]
     },
     "execution_count": 71,
     "metadata": {},
     "output_type": "execute_result"
    }
   ],
   "source": [
    "wv.similar_by_vector(wv['boy'] - wv['man'] + wv['woman'])"
   ]
  },
  {
   "cell_type": "code",
   "execution_count": 70,
   "id": "626b0a7c-99f9-4530-8cae-a6a1d5d2c3e1",
   "metadata": {},
   "outputs": [
    {
     "data": {
      "text/plain": [
       "[('vehicle', 0.7821096181869507),\n",
       " ('cars', 0.7423831224441528),\n",
       " ('SUV', 0.7160962224006653),\n",
       " ('minivan', 0.6907036900520325),\n",
       " ('truck', 0.6735789775848389),\n",
       " ('Car', 0.6677608489990234),\n",
       " ('Ford_Focus', 0.667320191860199),\n",
       " ('Honda_Civic', 0.6626849174499512),\n",
       " ('Jeep', 0.651133120059967),\n",
       " ('pickup_truck', 0.6441438794136047)]"
      ]
     },
     "execution_count": 70,
     "metadata": {},
     "output_type": "execute_result"
    }
   ],
   "source": [
    "wv.most_similar('car')"
   ]
  },
  {
   "cell_type": "markdown",
   "id": "3a695b33-b89d-4d06-a099-609e20692fde",
   "metadata": {},
   "source": [
    "##### emoji2vec\n",
    "\n",
    "Show all the emojis:"
   ]
  },
  {
   "cell_type": "code",
   "execution_count": 106,
   "id": "580807fb-4c46-4778-8f2a-a7808459ac58",
   "metadata": {},
   "outputs": [
    {
     "name": "stdout",
     "output_type": "stream",
     "text": [
      "🇸🇰 👔 🌀 🚾 👹 🚻 👬 🇫🇯 🎧 🐽 🚜 ♋ 🚭 🚷 📅 💈 ✔️ 🙎🏼 🍸 🤷 🌂 🚓 🍤 💘 🚔 👚 🐧 🍥 🍵 ✂️ 👓 ⛔ 💂 🆔 😕 🎎 🏊🏻 ❗ 💭 💬 \n",
      "🎴 ♉ ⚖ 🇮🇩 🛵 ⬅️ 📒 😡 🇲🇦 🇨🇭 🍦 ❗️ 🌐 🎡 🇿🇲 🤒 🔓 🎻 😹 🚮 👽 🌝 🇭🇺 🐆 🇰🇵 💔 🎅🏻 👇🏽 🍆 👃🏽 🐖 😮 ✴️ ➗ ⌚ 🆎 👻 🗻 🇨🇺 😟 \n",
      "💣 💁 🦀 🇬🇭 🎩 🇼 👉🏾 🙊 🍚 🍙 🚯 👩🏿 🇫🇷 👸🏼 😿 😲 🇲🇰 🔢 🚬 💅 🏀 🍷 🙈 👭 🍯 🏰 🖨 🍨 🆗 😩 🎉 🤐 🥡 ⚫️ 🏣 🌹 🌯 🎆 ▶️ 🔮 \n",
      "🙌 🆚 🙆 🎒 💆 🔰 🌜 🌕 🎑 😳 ⚓ 🐫 ♐ 👂  💃 🐼 🍣 🏧 🎠 🌴 😏 🛅 💶 ⚽ ♎ 🏫 😃 🇸🇮 🔒 ⛺ 🚥 💵 🍺 💀 🌅 🐜 ♣️ 🔔 🙆🏿 \n",
      "💉 💯 🍕 👣 🍌 🥔 🐸 👃🏻 🍮 💞 👵🏽 🇳🇬 🚦 🚣 💕 🐾 🏂 👎 🐀 🚝 😻 🛣 🎈 🐅 🇭🇳 🦃 🐌 🏋 🌎 ✈️ 🇨🇲 😂 🌡 🔏 😙 🇸🇧 👅 🕸 🇩🇪 👨‍👩‍👦‍👦 \n",
      "🌒 🍹 😛 🏍 💒 👯 ❄️ 😒 🔌 🌑 🚤 🏓 🍳 🍔 🙋🏿 😀 🙏 🌵 🚏 🍋 ☘ 🍀 ✌️ 🍠 🌗 🏬 🚉 🎅🏽 🍗 🖖🏽 ⛽ 🌱 💴 👐🏾 🐭 🈲 ⛄ 🌄 🎰 🖖🏼 \n",
      "🐤 🈵 🚌 🎪 🎅 👳 🍴 👰 🏇🏽 💿 🙂 🎓 🆖 🚵 🇪🇬 🔟 🐣 ♓️ 🇸🇻 🙅🏻 🤰 🏒 🇵🇬 💠 🎾 🎳 🛤 👺 🤦 🇩🇴 🚂 💷 🍏 🔜 ✡ 👲 🚘 📍 ®️ 🌠 \n",
      "🎃 🏩 💳 😊 🍟 ♌️ ☔ 🇬🇧 👟 🌛 🏷 💮 👋 🕉 👃 🎱 🍓 🗨 🚕 🇱🇺 🌇 👎🏾 🇶 🎫 💧 😎 👫 ♋️ 😋 🖖 🚺 😖 🇦🇼 🌁 🐕 ♊ 🐟 🙎🏻 ♈ 🐝 \n",
      "🇮🇳 ✋ 🏇 🙅 🌻 9️⃣ ℹ️ 5⃣️ 🈁 👏 🌉 👿 🎐 🇪🇸 🎍 👍🏿 🚣🏿 🖇 🍰 🇸🇩 🚎 🚡 🎯 🔼 👦🏿 😪 ⛵️ ▪️ 🇱 🙋 😴 😔 🇦🇲 ⛷ 😱 📨 🆙 🚟 😰 💐 \n",
      "🚰 ✳️ 🌚 🍬 🔉 💱 🏐 🍩 ❤️ 👰🏽 🏄🏼 🇦🇫 💜 ⚠️ 🛁 🎂 🎷 🐄 ⏸ 🙀 🇨🇩 ☕️ 🌈 🚪 🇷🇪 👩 ♐️ 🤢 🇲🇪 📤 🇷🇼 🇵 🎨 💤 ⚰ 🍡 ⚪️ 🚴 🎽 😵 \n",
      "🇳🇪 😥 🇬🇵 👁 🐺 🚞 🚙 🍞 🇦🇴 🎸 🔣 🍭 🌌 💏 🌸 🇧🇲 👖 👊🏽 👆 🛋 🌾 🏆 🌞 🌋 😁 🏄 👴🏼 👩🏾 🙅🏼 🏮 😄 1⃣️ 🎣 ♒️ 🍛 📎 🇸🇷 ⛄️ 🇱🇹 🚛 \n",
      "🚅 🖕 🐪 🚁 🇰🇪 🛃 🇵🇷 🇭🇰 🇵🇼 📛 😅 🅱️ 🎭 🍢 ♍️ 🈚 👴 🏠 ⚓️ 🗝 💽 🎹 😈 🇳🇨 🇻🇳 📰 7️⃣ 🍻 😉 💍 🚶 🙇🏽 🐞 🍲 🍉 🐲 🇳🇵 👤 😞 🎶 \n",
      "🇦🇮 👄 🗿 🌆 🚀 👱🏿 🍼 🏞 〽️ 🐍 4⃣️ 📦 ♌ ♿️ ♒ 🇵🇸 🇮🇶 🌃 🎬 😷 👒 📲 🔥 ♏️ 🐡 🎢 🐨 📆 ⭕ 🚖 🏉 😓 🏜 🌿 🏨 🎏 🇦🇹 🇬🇾 🌖 🇧🇼 \n",
      "🚽 👐 🐇 🇲🇶 🎲 🐢 😸 🗃 🕵 🍱 🐉 😺 😫 🌭 🍧 🍝 🙍 🙉 🇵🇭 🕷 🖼 ✏️ 😨 💻 🔈 🇩🇿 💸 🏊 🍶 🇲🇳 🚢 🏁 🚶🏿 ♑️ 🙇 🇭🇹 🐏 👊🏼 😤 🇮🇱 \n",
      "🐷 💰 👆🏿 ↪️ 👕 🔎 🏏 🤵 💃🏽 ⛺️ 👉🏼 💙 😗 🇬🇺 🚍 ☎️ 🇨🇰 🛐 🇻🇦 👌 🚩 🥄 🎋 ✊ ⚡ 📿 🌲 👀 🚒 😌 🤗 🇻🇪 🎄 📩 🍖 🇻🇺 🏳 🦇 🇨🇻 💫 \n",
      "🔡 🍍 🎤 👃🏼 🥙 🚈 🔋 😬 ♨️ 🌥 🐎 🕺 👨‍👨‍👧 🔪 ✊🏽 🎿 🚣🏾 🙍🏿 🌼 🔙 ✋🏿 🎮 ⚪ 🖤 🎼 🇦🇿 🇿🇦 ♑ ❎ 😭 📳 👇🏾 🎵 😘 🙏🏼 🇼🇸 😜 🐻 🌘 🇪🇺 \n",
      "🇹🇨 🇯 🐮 🏥 🐩 🇧🇳 🚱 🌟 💇 🎁 🍎 👳🏾 🚨 🌰 🚐 🇦🇩 ♓ 📹 🕎 🌍 🇧🇧 🚳 📱 🙇🏻 🐛 🇯🇵 ✅ 🔫 🇲🇴 🇸🇨 🕍 🚫 🐒 👨‍👩‍👧‍👦 😼 🇹🇳 ⚙ 🇦🇬 3⃣️ 👶🏽 \n",
      "🌔 ✉️ 🇸🇽 👨🏼 🚣🏽 🕯 😍 🇰🇾 👾 🚃 🎛 🤳 🌦 🇬🇦 🏪 📝 🇧🇴 🇵🇪 🚹 ⛸ 💩 🦅 🤠 🇰🇮 🗂 👈🏾 ♍ 👦🏽 👞 🌷 🕴 🇹🇼 👨‍❤️‍💋‍👨 🇳🇫 🎊 🔩 🇦🇸 🇮🇴 🏎 🙌🏽 \n",
      "🚶🏾 🛄 🚧 🇹🇬 💟 🇸🇪 🇲🇼 👈🏻 💥 🖌 👍🏾 💅🏻 💗 💡 🏟 🌫 🌬 ♦️ ⏰ ☯ 💪 🔑 💊 🇬🇮 ☝️ 👩‍❤️‍👩 ♎️ 🖐 🐗 🏃 🇨🇳 👛 🚿 🐔 🔍 🐰 🖲 👨🏿 🤞 🌊 \n",
      "🔄 🇦🇶 🎺 🛌 🇲🇿 👼🏼 🏄🏿 🇴🇲 🤝 ☕ 🙏🏾 🙌🏿 🔳 🐱 🇵🇾 💢 💆🏼 ⬆️ 🎦 🎀 🤺 📚 🇰🇲 🌺 🍊 💅🏼 🐙 🍂 😶 😐 🍐 🏅 📃 ❌ 🤣 🇧🇶 ➖ 🙎🏿 👱🏾 👢 \n",
      "🏵 🗽 🍄 👇 🇸🇦 🔬 🍿 🙎 🇸🇬 🐥 🤡 ⛰ 🖱 🌓 🐑 🎥 🏦 🌙 🀄 🍑 🔨 🌏 👎🏼 💪🏿 🇲🇹 🛍 🇫🇴 ⛪ 🇸🇴 🇭🇷 🇿🇼 💁🏾 🍘 ⏲ 🇹🇫 👈🏼 👸 💂🏼 ↖️ 📼 \n",
      "👰🏼 👪 🤘 🍁 👙 ⛲ 🚸 🙆🏻 📇 🗜 🇽🇰 ✊🏾 💚 🌳 📻 🐵 👉🏽 😝 💛 📧 🥐 🐐 😚 📖 🏈 😦 🚋 🐹 🚼 🇦🇺 🇳🇱 👊🏿 🚄 ⭐️ 🛥 💂🏻 🤥 👌🏿 🦁 💲 \n",
      "🇾🇹 🚶🏻 🤶 🇰🇷 ⭐ ✊🏿 🇧🇫 👮🏽 ☺️ ✋🏻 🏯 👷🏾 ⛪️ 💝 🏘 🌪 👈 🚵🏼 2⃣️ 🇾🇪 🤖 📵 🇨🇱 🚠 🇹🇭 💨 🇹🇷 🍪 😠 🆑 🇷🇴 👳🏼 💪🏽 🕔 🛀 🐿 6⃣️ 👎🏻 🇨🇨 👝 \n",
      "🍃 🌽 🇹🇿 🇨🇽 🈺 ⛅ 🍫 ☠ 🚆 🚚 👉 🇳🇮 🤕 👩‍👩‍👦‍👦 👍 🇬🇶 🇨🇾 🏚 🥘 🐈 🏔 8️⃣ 🇧🇻 🇮🇨 🇸 👧🏿 👲🏿 ☀️ 🙅🏽 🕖 ❓ 🇨🇵 ⛎ 🏕 👘 🙇🏾 🉐 🇮🇹 📫 🏑 \n",
      "🐚 🇺🇬 🔦 🕳 🇪🇭 🇿 🇫🇮 👏🏿 🇺🇾 🇮🇪 😽 👨‍👩‍👧‍👧 😾 🙋🏽 👆🏽 🗡 🀄️ 👸🏾 ⛈ 🦆 👗 📐 👧🏾 👮🏿 🕰 ♏ 🎖 🏄🏾 🇹🇦 🗣 👼🏻 🔸 🃏 🖊 🛂 🌶 👂🏼 🇨🇮 🥒 🤾 \n",
      "📯 😢 🔇 💾 🦏 🇺🇸 👁‍🗨 😯 ⚔ 🇲🇭 🍇 👵🏼 🥃 💅🏽 🚊 🇧🇦 🤑 🇹🇯 💹 👑 6️⃣ ⏱ 🇲🇽 ☢ 🇰🇿 🇬🇫 📡 🇲🇾 📏 🆒 🙅🏿 👴🏿 🅿️ 🗾 ❇️ 🇱🇧 💋 👡 👍🏻 🈯 \n",
      "👏🏾 🐴 🇨🇫 💇🏼 🙋🏻 💼 🇬🇹 🙄 👥 🇱🇦 👷🏿 🇯🇲 🥀 💓 🛳 ♉️ 🇧🇹 🇳🇴 ⁉️ 🔛 🖋 👌🏾 📮 ♊️ 👨 😑 📕 📂 👮 😧 🇦🇷 🗺 🏺 👵🏿 🖖🏿 👊 🆓 🐋 🖥 ♥️ \n",
      "🇷🇸 👷 🉑 ✋🏽 🐓 ☮ 👈🏿 🐃 🇸🇱 🥕 📪 🐶 🇹🇻 🚵🏽 🇸🇲 🤧 🛏 🇧🇩 🔚 ◼️ 🔊 🚗 🇧🇮 🕚 🇷🇺 🇵🇳 ⛅️ 🏊🏽 📭 ㊙️ 🔆 ⚛ 🔐 🇰🇳 ☂ 📌 ⛳ 📀 🇹🇩 🙍🏽 \n",
      "👼🏿 🇧🇭 ✝ ⚗ 👨‍❤️‍👨 👋🏼 🛀🏽 🙃 😇 ⚫ 📓 🍽 🇩🇲 📬 🔠 📟 🇮 🈂️ 📴 ⛓ 📺 📢 🎟 🕓 🔝 🈹 👼 🔁 🍜 ⚡️ 👍🏼 💑 🙎🏽 🇧🇯 👠 🔗 🇫🇰 👷🏽 📶 💎 \n",
      "🔕 📋 ✨ 🤹 🚴🏼 🕗 🏊🏿 🔯 🇰🇬 🦈 👱 ‼️ 🔷 🕑 🙍🏾 🎅🏿 🈴 🐠 👨‍👨‍👦 🈶 ✋🏾 ◀️ 👧🏻 🏃🏾 🤚 🇸🇸 ◽️ 🇬🇩 👰🏻 🏃🏼 🙁 🇲🇷 🇶🇦 👴🏻 🇬🇲 🇨🇦 🖖🏻 💌 🎅🏾 🇱🇰 \n",
      "👩‍👩‍👦 👇🏿 💄 🇦🇪 ⛔️ 🇩🇯 🏇🏾 💦 🇪🇷 ☔️ 🤤 🇲🇻 🐯 👸🏻 🚵🏻 ⛲️ 🚶🏽 ♈️ 🇵🇰 👎🏽 📑 🇱🇷 ⛽️ 👍🏽 🏊🏼 ⛳️ 📠 🔂 ♻️ 🛀🏿 🧀 🗯 🚴🏿 🍈 ⤴️ 1️⃣ 😆 🆘 💺 🇻🇬 \n",
      "🇫🇲 🇳🇿 ☹ 💪🏻 👴🏾 ☄ 👇🏻 💃🏿 📄 👶 🇺🇿 💅🏾 ⬜️ 🍾 🔖 🇨🇿 🇪🇨 🔱 🇦🇽 📷 ❣ Ⓜ️ 🇳🇷 🇲🇺 👵 🇬🇷 ❕ 🦊 ▫️ 🕶 🇧🇷 🇵🇹 🇲🇱 🕋 👏🏼 🐊 🛬 🔤 🏹 🌮 \n",
      "🔽 ➿ ㊗️ 🗳 🏇🏻 🇸🇿 🇸🇳 👩🏼 🤔 💃🏻 🛰 👂🏾 🇵🇦 👷🏼 🛀🏾 ⚾ 🇴 🚑 🥗 🇬🇱 🕒 🚴🏽 🛠 🍒 👌🏽 👦 🥓 👸🏽 🏙 👲🏻 🇺🇦 🚣🏻 ➰ 👐🏻 🇪🇹 ◻️ 🍅 🇨🇷 🦂 0️⃣ \n",
      "⏩ 👉🏿 🖍 🇹🇲 👰🏾 💖 🅾️ 🦉 📘 🇧🇸 🇹🇰 💆🏻 📊 ✋🏼 🇧🇪 ⛩ 🇪🇪 🇦🇱 ⌚️ 🇰🇭 🌤 🇯🇴 🚲 #️⃣ 🇳🇺 ↙️ 🏌 👩‍👩‍👧‍👧 ✒️ 🔹 🏡 ☁️ 🇦🇨 🇬 👇🏼 🗓 💃🏾 🕹 ◽ 🏇🏼 \n",
      "🇱🇾 👳🏿 👌🏻 🏇🏿 🇵🇫 🛑 👜 ⬛️ 🇳 🏤 🇱🇮 🔭 😣 🏃🏻 🤴 🇸🇾 🙋🏼 📣 ⌛ 🇬🇬 ⬇️ 👐🏼 📞 🇲🇩 ➕ 🇧🇿 👩‍❤️‍💋‍👩 🇳🇦 🇪 📜 🇱🇨 👃🏿 💁🏼 💁🏽 🎌 🙆🏼 🕙 🙍🏼 👵🏻 🈷️ \n",
      "👶🏻 👲🏼 ⏹ 🎗 ⛹ 🔴 🌨 📗 ☃ 💇🏻 🇵🇱 ⚱ 🇬🇼 🚴🏾 👩‍👩‍👧 🕐 🎅🏼 🇩🇬 🗒 🇨🇼 👱🏻 👨‍👨‍👧‍👧 📔 🙅🏾 ♿ ♠️ ☪ 🛀🏼 👆🏻 🇯🇪 🏢 📈 🤓 ☑️ 🥂 🚇 5️⃣ 🙌🏻 🏝 🐂 \n",
      "⚽️ 🏄🏽 🇮🇸 🗞 👂🏿 🦄 👦🏻 👨‍👨‍👧‍👦 ⬛ 🔀 🙆🏾 🈸 ◾️ 👧 👐🏽 🇲🇸 🚶🏼 ™️ 🆕 🔧 🗼 🕛 3️⃣ 🙌🏼 💇🏿 🇱🇸 🇲🇬 👋🏾 🇮🇷 ☣ 🔞 🏸 🈳 👵🏾 💁🏿 🇲🇵 🕌 🕕 ✍ 🔵 \n",
      "📁 👼🏾 ⤵️ ©️ 👲🏾 🇻 🇨🇴 👊🏻 🕊 💃🏼 👋🏿 🇧🇬 📥 〰️ 🐁 🖖🏾 🎚 ❔ 👨‍👩‍👧 ↗️ 🚴🏻 🇹🇹 🛢 👱🏽 👐🏿 🇹🇴 👋🏻 ⚒ 📉 💂🏽 🐘 ⏏ 👨🏾 🙌🏾 🇬🇪 ↔️ 👎🏿 🎞 🇰🇼 🦋 \n",
      "💪🏾 🇮🇲 👨‍👨‍👦‍👦 👨🏽 4️⃣ 👧🏽 👮🏼 👳🏻 👶🏾 💂🏾 👌🏼 👧🏼 🎙 🇻🇮 ✖️ 🏊🏾 🛴 ↕️ 🐦 👶🏿 🇻🇨 🙏🏻 👼🏽 🇧🇾 🌧 ⌛️ 💅🏿 🇬🇳 ⌨ 👏🏻 ⏺ 🏛 🇨🇬 🤛 🛩 👊🏾 ⭕️ 👉🏻 🙇🏿 💇🏾 \n",
      "*⃣ ◾ 📽 🥑 👃🏾 ⛑ 🕘 🙏🏽 ⛴ 🇲🇨 7⃣️ 💆🏿 ✊🏻 👮🏾 👂🏽 🔅 🚵🏾 🗄 🙋🏾 👳🏽 🏗 2️⃣ 👋🏽 🏄🏻 💁🏻 🇩🇰 👏🏽 🔘 👱🏼 🌩 🇱🇻 🎇 ‍ 👶🏼 ➡️ 🇲🇲 ⛱ ↘️ 🚣🏼 🏃🏽 \n",
      "🏴 🛎 🅰️ 🙎🏾 👩🏻 ✊🏼 👩🏽 ⛏ 9⃣️ 👨🏻 🔃 💆🏽 👆🏼 💂🏿 🛫 🚵🏿 🛡 👂🏻 🥖 🇺 👮🏻 ⏪ 📙 🏭 👰🏿 👦🏾 👆🏾 💇🏽 🛀🏻 👲🏽 🙇🏼 🤙 🔲 🇹🇱 ⏳ 👦🏼 🇸🇹 🇽 🙍🏻 🐳 \n",
      "🙆🏽 👈🏽 🏃🏿 💪🏼 🗑 👴🏽 🤜 📸 🐬 💆🏾 🏖 ⬜ 👷🏻 👸🏿 🔶 ⚾️ ☸ ↩️ ☦ 👩‍👩‍👧‍👦 🙏🏿 "
     ]
    }
   ],
   "source": [
    "EMOJIS_PER_LINE = 40\n",
    "for i, k in enumerate(ev.index_to_key):\n",
    "  print(k, end=' ')\n",
    "  if (i+1) % EMOJIS_PER_LINE == 0:\n",
    "    print()\n",
    "  "
   ]
  },
  {
   "cell_type": "code",
   "execution_count": 91,
   "id": "a7c9294d-81c7-4b7e-b2b0-e928fc43d88d",
   "metadata": {},
   "outputs": [
    {
     "data": {
      "text/plain": [
       "[('👑', 0.8581188321113586),\n",
       " ('👸', 0.628779947757721),\n",
       " ('🏰', 0.4684167206287384),\n",
       " ('🤴', 0.4493362009525299),\n",
       " ('🐜', 0.43714311718940735),\n",
       " ('🎎', 0.4322206377983093),\n",
       " ('👸🏼', 0.41583117842674255),\n",
       " ('👸🏻', 0.4070160984992981),\n",
       " ('💂', 0.3953656554222107),\n",
       " ('👧', 0.37989136576652527)]"
      ]
     },
     "execution_count": 91,
     "metadata": {},
     "output_type": "execute_result"
    }
   ],
   "source": [
    "ev.similar_by_vector(ev['👑'] - ev['🚹'] + ev['🚺']) "
   ]
  },
  {
   "cell_type": "code",
   "execution_count": 92,
   "id": "6f747d7f-9186-4894-91d7-5ccbc4e02cd9",
   "metadata": {},
   "outputs": [
    {
     "data": {
      "text/plain": [
       "[('😜', 0.8535385131835938),\n",
       " ('😝', 0.8223440647125244),\n",
       " ('👅', 0.6550301909446716),\n",
       " ('🙎', 0.5648128986358643),\n",
       " ('😉', 0.5496317148208618),\n",
       " ('🐒', 0.5416544675827026),\n",
       " ('😏', 0.5343378782272339),\n",
       " ('😙', 0.5192166566848755),\n",
       " ('😼', 0.5154463052749634),\n",
       " ('🙃', 0.5110161304473877)]"
      ]
     },
     "execution_count": 92,
     "metadata": {},
     "output_type": "execute_result"
    }
   ],
   "source": [
    "ev.most_similar('😛')"
   ]
  },
  {
   "cell_type": "markdown",
   "id": "15cbce4e-3773-4ba7-b094-8afb696ddc7c",
   "metadata": {},
   "source": [
    "##### word2vec + emoji2vec ?"
   ]
  },
  {
   "cell_type": "code",
   "execution_count": 95,
   "id": "87d6e6d1-106f-4bd0-ab60-eb67cdc393f1",
   "metadata": {},
   "outputs": [
    {
     "data": {
      "text/plain": [
       "[('💛', 0.45188307762145996),\n",
       " ('🍋', 0.43907347321510315),\n",
       " ('🌽', 0.41172969341278076),\n",
       " ('❤️', 0.4000483751296997),\n",
       " ('🐼', 0.3675897717475891),\n",
       " ('🌹', 0.3617658317089081),\n",
       " ('👸🏻', 0.3440008759498596),\n",
       " ('💚', 0.32833370566368103),\n",
       " ('🎅🏻', 0.3265405297279358),\n",
       " ('👶🏻', 0.3243843913078308)]"
      ]
     },
     "execution_count": 95,
     "metadata": {},
     "output_type": "execute_result"
    }
   ],
   "source": [
    "ev.similar_by_vector(ev['❤️'] - wv['red'] + wv['yellow'])"
   ]
  },
  {
   "cell_type": "code",
   "execution_count": 96,
   "id": "5ba53163-0a07-4601-b009-4c9c5f0ff418",
   "metadata": {},
   "outputs": [
    {
     "data": {
      "text/plain": [
       "[('👴🏼', 0.5156091451644897),\n",
       " ('👨🏼', 0.4439067244529724),\n",
       " ('👴🏻', 0.36636167764663696),\n",
       " ('🎅🏼', 0.3663276433944702),\n",
       " ('👳🏼', 0.36290159821510315),\n",
       " ('👴🏾', 0.3594023585319519),\n",
       " ('👴🏿', 0.3574677109718323),\n",
       " ('👨🏾', 0.3401283919811249),\n",
       " ('👂🏼', 0.3366304636001587),\n",
       " ('👳🏾', 0.3297697603702545)]"
      ]
     },
     "execution_count": 96,
     "metadata": {},
     "output_type": "execute_result"
    }
   ],
   "source": [
    "ev.similar_by_vector(ev['👴🏼'] - wv['woman'] + wv['man'])"
   ]
  },
  {
   "cell_type": "code",
   "execution_count": null,
   "id": "6e0ee7fd-4535-4578-961c-4bed2017bcee",
   "metadata": {},
   "outputs": [],
   "source": []
  }
 ],
 "metadata": {
  "kernelspec": {
   "display_name": "hlcv_project",
   "language": "python",
   "name": "hlcv_project"
  },
  "language_info": {
   "codemirror_mode": {
    "name": "ipython",
    "version": 3
   },
   "file_extension": ".py",
   "mimetype": "text/x-python",
   "name": "python",
   "nbconvert_exporter": "python",
   "pygments_lexer": "ipython3",
   "version": "3.8.5"
  }
 },
 "nbformat": 4,
 "nbformat_minor": 5
}