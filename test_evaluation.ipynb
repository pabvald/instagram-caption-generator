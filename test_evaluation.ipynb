{
 "metadata": {
  "language_info": {
   "codemirror_mode": {
    "name": "ipython",
    "version": 3
   },
   "file_extension": ".py",
   "mimetype": "text/x-python",
   "name": "python",
   "nbconvert_exporter": "python",
   "pygments_lexer": "ipython3",
   "version": "3.8.10"
  },
  "orig_nbformat": 4,
  "kernelspec": {
   "name": "python3",
   "display_name": "Python 3.8.10 64-bit ('instagram-caption-generator-Z18861q1': pipenv)"
  },
  "interpreter": {
   "hash": "f58a678dbd1670e0124423fbd42524fb68cfc59d5c077e2c6f76e74bd8aab77e"
  }
 },
 "nbformat": 4,
 "nbformat_minor": 2,
 "cells": [
  {
   "cell_type": "code",
   "execution_count": 1,
   "metadata": {},
   "outputs": [
    {
     "output_type": "stream",
     "name": "stderr",
     "text": [
      "/home/pabvald/.virtualenvs/instagram-caption-generator-Z18861q1/lib/python3.8/site-packages/gensim/similarities/__init__.py:15: UserWarning: The gensim.similarities.levenshtein submodule is disabled, because the optional Levenshtein package <https://pypi.org/project/python-Levenshtein/> is unavailable. Install Levenhstein (e.g. `pip install python-Levenshtein`) to suppress this warning.\n  warnings.warn(msg)\n"
     ]
    }
   ],
   "source": [
    "from evaluation.eval import eval\n",
    "from dataloader import CaptionDataset\n",
    "from utils import *\n",
    "from config import *\n",
    "import torchvision.transforms as transforms"
   ]
  },
  {
   "cell_type": "code",
   "execution_count": null,
   "metadata": {},
   "outputs": [],
   "source": []
  },
  {
   "cell_type": "code",
   "execution_count": 2,
   "metadata": {},
   "outputs": [],
   "source": [
    "normalize = transforms.Normalize(mean=[0.485, 0.456, 0.406],\n",
    "                                 std=[0.229, 0.224, 0.225])\n",
    "\n",
    "dataset = CaptionDataset('data/datasets/flickr8k', 'flickr8k', 'TEST', transform=transforms.Compose([normalize]))\n",
    "\n",
    "with open('data/datasets/flickr8k/WORDMAP_flickr8k.json', 'r') as j:\n",
    "        word_map = json.load(j)\n",
    "        inv_map = {v: k for k, v in word_map.items()}\n"
   ]
  },
  {
   "cell_type": "code",
   "execution_count": 3,
   "metadata": {},
   "outputs": [],
   "source": [
    "img, caption, caplen, all_captions = dataset[0]"
   ]
  },
  {
   "cell_type": "code",
   "execution_count": 4,
   "metadata": {},
   "outputs": [
    {
     "output_type": "execute_result",
     "data": {
      "text/plain": [
       "'the dogs are in the snow in front of a fence'"
      ]
     },
     "metadata": {},
     "execution_count": 4
    }
   ],
   "source": [
    "\n",
    "decode_caption(caption, word_map, inv_map)"
   ]
  },
  {
   "cell_type": "code",
   "execution_count": 5,
   "metadata": {},
   "outputs": [
    {
     "output_type": "stream",
     "name": "stdout",
     "text": [
      "the dogs are in the snow in front of a fence\n",
      "two brown dogs playfully fight in the snow\n",
      "two dogs playing in the snow\n",
      "small dog is paddling through the water in a pool\n",
      "a dog swims in a pool near a person\n",
      "a brown and white dog swimming towards some in the pool\n",
      "a man and a woman in festive costumes dancing\n",
      "one performer wearing a feathered headdress dancing with another performer in the streets\n",
      "a man and a woman wearing <unk> costumes and dancing in a crowd of onlookers\n",
      "three people sit at a picnic table outside of a building painted like a union jack\n",
      "three people sit at an outdoor cafe\n",
      "three people are sitting at an outside picnic bench with an umbrella\n",
      "a man is wearing a sooners red football shirt and helmet\n",
      "a oklahoma sooners football player wearing his jersey number <unk>\n",
      "the american footballer is wearing a red and white strip\n",
      "a brown dog with its front paws off the ground on a grassy surface near red and purple flowers\n",
      "a yellow dog is playing in a grassy area near flowers\n",
      "a dog runs across a grassy lawn near some flowers\n",
      "an asian boy and an asian girl are smiling in a crowd of people\n",
      "two girls are looking past each other in different directions while standing in a crowd\n",
      "a girl with dark brown hair and eyes in a blue scarf is standing next to a girl in a fur <unk> coat\n",
      "dog <unk>\n",
      "a dog with its mouth <unk>\n",
      "close up of dog in profile with mouth open\n",
      "a black dog walking out of the water with a white ball in his mouth\n",
      "a black dog emerges from the water onto the sand holding a white object in its mouth\n",
      "the black dog jumps out of the water with something in its mouth\n",
      "four men playing basketball two from each team\n",
      "two boys in green and white uniforms play basketball with two boys in blue and white uniforms\n",
      "a player from the white and green <unk> team dribbles down court <unk> by a player from the other team\n",
      "a group of tourists stand around as a lady puts her hand near the mouth of a statue\n",
      "woman gets her hand <unk> by living statue street artist\n",
      "a woman posing with a statue alongside a group of boys\n",
      "a man wearing a yellow shirt with a <unk> look on his face\n",
      "this man is smiling very big at the camera\n",
      "a man in yellow <unk>\n",
      "a spotted dog rolling over on a pad placed on a porch\n",
      "a white dog rolling on its back on a porch\n",
      "the spotted dog rolls on its back\n",
      "people in the city\n",
      "a man stands next to a bus\n",
      "a man stands at a busy bus stop\n",
      "a girl wearing a brown cap red sneakers and a dark green coat sits on a rock bench\n",
      "a woman in a knit cap and green coat its on a stone block looking out\n",
      "a hiker in a jacket and knit cap sits with a backpack on atop a stone with a cloudy sky in the background\n",
      "two men stand together one is putting something red on his arm\n",
      "one man helps another <unk> a red ribbon to his <unk> in the midst of a large group of people\n",
      "a man helps another man tie a red ribbon onto his arm\n",
      "two dogs are playing one is catching a frisbee\n",
      "two dark colored dogs romp in the grass with a blue frisbee\n",
      "a dog with a frisbee in front of a brown dog\n",
      "a little boy holds a decorated cardboard box on his head\n",
      "a young boy with a <unk> cardboard box atop his head\n",
      "a boy is inside holding something on top of his head\n",
      "two dogs play in the grass\n",
      "two brown dogs run through the grass together\n",
      "the large brown dog is chasing after the little brown dog\n",
      "man with black hat coat and pants sitting next to the door of a building\n",
      "a man wearing a dark blue hat sits on the ground and leans against a building\n",
      "the man in the black hat is sitting on the floor beside the green door\n",
      "a hiker <unk> a snowy hill\n",
      "a man reaches the top of a tall sand dune\n",
      "a person is hiking to the top of a hill\n",
      "three boys in a building under construction\n",
      "three little boys are playing on the floor of an <unk> house\n",
      "three boys playing in an <unk> space\n",
      "a large green <unk> protest is taken to the streets\n",
      "a group of <unk> <unk> in the road\n",
      "a protest march is passing by a white stone building\n",
      "the helmeted boy is doing a stunt on a skateboard\n",
      "the young man is skateboarding at a skate park\n",
      "a man wearing a red helmet jumps up while riding a skateboard\n",
      "a dark blue car going through a muddy road and <unk> some to the side\n",
      "there is a blue car on a road in the <unk> splashing through a puddle\n",
      "a <unk> green car on a dirt road splashing water on the left\n",
      "chinese market street in the winter time\n",
      "a busy city street with many people walking along it\n",
      "people walk down a paved street that has red <unk> <unk> from the buildings\n",
      "a young girl wearing red sunglasses sits near a <unk> and holds the <unk>\n",
      "a little girl is sitting on the counter dangling one foot in the <unk> whilst holding a dish jet <unk>\n",
      "a little girl wearing sunglasses puts her feet into the kitchen <unk>\n",
      "a man with a pug dog bends over to pick something off the sidewalk\n",
      "a dog waits as his owner <unk> through a <unk> of stuff\n",
      "a man holding the leash of a pug bends down to look in a bin at an outdoor <unk> sale\n",
      "a man climbs a mountain\n",
      "a shirtless man climbs up a steep mountain\n",
      "a man is climbing the side of a mountain\n",
      "the woman in the dark coat is facing the camera while the man in the blue shirt faces away\n",
      "a woman in a black <unk> and red hair with man in white walking behind her\n",
      "a woman wears sunglasses and a black coat as she walks\n",
      "football players gathering to contest something to <unk> <unk>\n",
      "oklahoma university football players in front of a crowd of sooners fans and next to three <unk>\n",
      "the red and white football team is talking with the <unk>\n",
      "a woman is climbing up a steep mountain over water\n",
      "people rock <unk> up a steep obstacle\n",
      "a woman wearing a white helmeted looking up as she is <unk> a huge rock wall\n",
      "a tan dog licks a girls hand while laying down\n",
      "the girl with the green scarf and the white dog appear to be playing\n",
      "the light brown dog with white spots is <unk> on the girls hand\n",
      "a person in a parachute sliding across the water\n"
     ]
    }
   ],
   "source": [
    "for i in range(100):\n",
    "    _, cap, _, _ = dataset[i]\n",
    "    print(decode_caption(cap, word_map, inv_map))"
   ]
  },
  {
   "cell_type": "code",
   "execution_count": 6,
   "metadata": {},
   "outputs": [],
   "source": [
    "  loader = torch.utils.data.DataLoader(\n",
    "        dataset,\n",
    "        batch_size=1, shuffle=True, num_workers=1, pin_memory=True)"
   ]
  },
  {
   "cell_type": "code",
   "execution_count": 7,
   "metadata": {},
   "outputs": [
    {
     "output_type": "execute_result",
     "data": {
      "text/plain": [
       "[tensor([[[[-1.9980, -2.0152, -1.9809,  ..., -1.8439, -1.5699, -1.8268],\n",
       "           [-1.5870, -1.8097, -1.2445,  ..., -1.3302, -1.8097, -1.3644],\n",
       "           [-1.3815, -1.2445, -1.5870,  ..., -0.5424, -0.4054, -0.4397],\n",
       "           ...,\n",
       "           [-1.8953, -1.7925, -1.8610,  ..., -1.8268, -1.7583, -1.7925],\n",
       "           [-1.8439, -2.0665, -1.6213,  ...,  0.5193,  0.4337,  0.3652],\n",
       "           [ 0.2796,  0.2967,  0.1083,  ..., -1.8097, -1.4843, -1.7240]],\n",
       " \n",
       "          [[-1.8782, -1.8957, -1.8957,  ..., -1.6155, -1.2829, -1.5630],\n",
       "           [-1.3529, -1.5805, -1.0378,  ..., -1.1429, -1.5455, -1.1429],\n",
       "           [-1.1954, -1.0553, -1.3704,  ..., -0.4251, -0.2675, -0.3550],\n",
       "           ...,\n",
       "           [-1.7906, -1.6856, -1.7556,  ..., -1.7031, -1.6331, -1.6681],\n",
       "           [-1.7206, -1.9482, -1.4930,  ..., -0.4251, -0.5126, -0.5651],\n",
       "           [-0.6527, -0.5826, -0.7227,  ..., -1.6856, -1.3529, -1.5280]],\n",
       " \n",
       "          [[-1.6999, -1.7173, -1.6999,  ..., -1.6127, -1.2990, -1.5256],\n",
       "           [-1.3513, -1.5779, -1.0201,  ..., -1.0376, -1.5081, -1.0550],\n",
       "           [-1.0898, -0.9504, -1.2816,  ..., -0.1661, -0.1312, -0.1138],\n",
       "           ...,\n",
       "           [-1.5256, -1.4210, -1.4907,  ..., -1.5256, -1.4210, -1.4559],\n",
       "           [-1.5081, -1.7347, -1.2816,  ..., -0.5670, -0.6541, -0.6715],\n",
       "           [-0.7587, -0.7064, -0.8458,  ..., -1.5081, -1.1770, -1.3339]]]]),\n",
       " tensor([[2631,    1,   46,    4, 2630,   58,  702, 1337,   42,   28,  246,    1,\n",
       "           727,   21,  709, 2632,    0,    0,    0,    0,    0,    0,    0,    0,\n",
       "             0,    0,    0,    0,    0,    0,    0,    0,    0,    0,    0,    0,\n",
       "             0,    0,    0,    0,    0,    0,    0,    0,    0,    0,    0,    0,\n",
       "             0,    0,    0,    0]]),\n",
       " tensor([[16]]),\n",
       " tensor([[[2631,    1,   46,    8,  733,  615,    4,   74,  420,    1,   28,\n",
       "           1847, 2632,    0,    0,    0,    0,    0,    0,    0,    0,    0,\n",
       "              0,    0,    0,    0,    0,    0,    0,    0,    0,    0,    0,\n",
       "              0,    0,    0,    0,    0,    0,    0,    0,    0,    0,    0,\n",
       "              0,    0,    0,    0,    0,    0,    0,    0],\n",
       "          [2631,    1,   46,   64,    2,  544,  615,    4,   74,    8,    1,\n",
       "           1335, 2632,    0,    0,    0,    0,    0,    0,    0,    0,    0,\n",
       "              0,    0,    0,    0,    0,    0,    0,    0,    0,    0,    0,\n",
       "              0,    0,    0,    0,    0,    0,    0,    0,    0,    0,    0,\n",
       "              0,    0,    0,    0,    0,    0,    0,    0],\n",
       "          [2631,    1,   46,    4, 2630,   58,  702, 1337,   42,   28,  246,\n",
       "              1,  727,   21,  709, 2632,    0,    0,    0,    0,    0,    0,\n",
       "              0,    0,    0,    0,    0,    0,    0,    0,    0,    0,    0,\n",
       "              0,    0,    0,    0,    0,    0,    0,    0,    0,    0,    0,\n",
       "              0,    0,    0,    0,    0,    0,    0,    0]]])]"
      ]
     },
     "metadata": {},
     "execution_count": 7
    }
   ],
   "source": [
    "next(iter(loader))"
   ]
  },
  {
   "cell_type": "code",
   "execution_count": null,
   "metadata": {},
   "outputs": [],
   "source": []
  }
 ]
}